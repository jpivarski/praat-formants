{
 "cells": [
  {
   "cell_type": "code",
   "execution_count": 1,
   "id": "34451e39-337f-48e9-8941-a9159d9d8fff",
   "metadata": {},
   "outputs": [],
   "source": [
    "import subprocess\n",
    "import csv\n",
    "\n",
    "import numpy as np\n",
    "import matplotlib.pyplot as plt\n",
    "\n",
    "import ipywebrtc\n",
    "import pydub"
   ]
  },
  {
   "cell_type": "code",
   "execution_count": 17,
   "id": "78d2ca0e-ea3a-485a-8cfe-6d614ce5fed6",
   "metadata": {},
   "outputs": [],
   "source": [
    "average_male_ipa = [\n",
    "    [\"i\", 240, 2400],\n",
    "    [\"y\", 235, 2100],\n",
    "    [\"e\", 390, 2300],\n",
    "    [\"ø\", 370, 1900],\n",
    "    [\"ɛ\", 610, 1900],\n",
    "    [\"œ\", 585, 1710],\n",
    "    [\"a\", 850, 1610],\n",
    "    [\"ɶ\", 820, 1530],\n",
    "    [\"ɑ\", 750, 940],\n",
    "    [\"ɒ\", 700, 760],\n",
    "    [\"ʌ\", 600, 1170],\n",
    "    [\"ɔ\", 500, 700],\n",
    "    [\"ɤ\", 460, 1310],\n",
    "    [\"o\", 360, 640],\n",
    "    [\"ɯ\", 300, 1390],\n",
    "    [\"u\", 250, 595],\n",
    "]"
   ]
  },
  {
   "cell_type": "code",
   "execution_count": 2,
   "id": "67755fec-bd15-49c2-9a39-9c15930747b8",
   "metadata": {},
   "outputs": [],
   "source": [
    "def number(x):\n",
    "    try:\n",
    "        return float(x)\n",
    "    except ValueError:\n",
    "        return float(\"nan\")"
   ]
  },
  {
   "cell_type": "code",
   "execution_count": 25,
   "id": "d98c5429-c47d-40fc-b3dc-d5fc64fd9fe5",
   "metadata": {},
   "outputs": [],
   "source": [
    "def plot(recorder, alphabet, tmp_filename=\"/tmp/praat-formants-sample\"):\n",
    "    recorder.save(tmp_filename + \".webm\")\n",
    "\n",
    "    webm = pydub.AudioSegment.from_file(tmp_filename + \".webm\")\n",
    "    webm.export(tmp_filename + \".wav\", format=\"wav\")\n",
    "\n",
    "    formants = np.array(\n",
    "        [\n",
    "            list(map(number, x))\n",
    "            for x in csv.reader(\n",
    "                subprocess.run(\n",
    "                    [\n",
    "                        \"praat_nogui\", \"--run\", \"formants.praat\", tmp_filename + \".wav\", \"5500\", \"0.025\", \"50\"\n",
    "                    ],\n",
    "                    stdout=subprocess.PIPE,\n",
    "                )\n",
    "                .stdout.decode()\n",
    "                .strip()\n",
    "                .split(\"\\n\"),\n",
    "                delimiter=\"\\t\",\n",
    "            )\n",
    "        ][1:]\n",
    "    )\n",
    "    intensity = np.array(\n",
    "        [\n",
    "            list(map(number, x))\n",
    "            for x in csv.reader(\n",
    "                subprocess.run(\n",
    "                    [\n",
    "                        \"praat_nogui\", \"--run\", \"intensity.praat\", tmp_filename + \".wav\"\n",
    "                    ],\n",
    "                    stdout=subprocess.PIPE,\n",
    "                )\n",
    "                .stdout.decode()\n",
    "                .strip()\n",
    "                .split(\"\\n\"),\n",
    "                delimiter=\" \",\n",
    "            )\n",
    "        ]\n",
    "    )\n",
    "    assert np.max(formants[:, 0] - intensity[2:-2, 0]) < 0.004\n",
    "\n",
    "    no_nan = ~(np.isnan(formants[:, 1]) | np.isnan(formants[:, 2]) | np.isnan(intensity[2:-2, 1]))\n",
    "    weights = (intensity[2:-2, 1] - np.nanmin(intensity[2:-2, 1]))[no_nan]\n",
    "\n",
    "    fig, ax = plt.subplots(figsize=(6, 6))\n",
    "    ax.hist2d(\n",
    "        x=formants[no_nan, 1],\n",
    "        y=formants[no_nan, 2],\n",
    "        weights=weights,\n",
    "        bins=(100, 100),\n",
    "        range=((100, 1000), (250, 2750)),\n",
    "        density=True,\n",
    "        vmin=1e-5,\n",
    "        vmax=1e-4,\n",
    "        cmap=\"Oranges\",\n",
    "    );\n",
    "    for vowel, x, y in alphabet:\n",
    "        ax.text(x, y, vowel, va=\"center\", ha=\"center\", fontsize=\"xx-large\", c=\"blue\");\n",
    "    ax.set_xlabel(\"$F_1$ (Hz)\");\n",
    "    ax.set_ylabel(\"$F_2$ (Hz)\");"
   ]
  },
  {
   "cell_type": "code",
   "execution_count": 27,
   "id": "03e9df32-8ceb-4d5c-8ba5-7ec96c43ea44",
   "metadata": {},
   "outputs": [
    {
     "data": {
      "application/vnd.jupyter.widget-view+json": {
       "model_id": "05c4f998f4314d7f98c1c21f538501dd",
       "version_major": 2,
       "version_minor": 0
      },
      "text/plain": [
       "AudioRecorder(audio=Audio(value=b'', format='webm'), stream=CameraStream(constraints={'audio': True, 'video': …"
      ]
     },
     "metadata": {},
     "output_type": "display_data"
    }
   ],
   "source": [
    "camera = ipywebrtc.CameraStream(constraints={\"audio\": True, \"video\": False})\n",
    "recorder = ipywebrtc.AudioRecorder(stream=camera)\n",
    "recorder"
   ]
  },
  {
   "cell_type": "code",
   "execution_count": 28,
   "id": "1214ced3-d0a8-4f44-bc02-33c7df4128a0",
   "metadata": {},
   "outputs": [
    {
     "data": {
      "image/png": "[encoded data removed]",
      "text/plain": [
       "<Figure size 432x432 with 1 Axes>"
      ]
     },
     "metadata": {
      "needs_background": "light"
     },
     "output_type": "display_data"
    }
   ],
   "source": [
    "plot(recorder, average_male_ipa)"
   ]
  }
 ],
 "metadata": {
  "kernelspec": {
   "display_name": "Python 3 (ipykernel)",
   "language": "python",
   "name": "python3"
  },
  "language_info": {
   "codemirror_mode": {
    "name": "ipython",
    "version": 3
   },
   "file_extension": ".py",
   "mimetype": "text/x-python",
   "name": "python",
   "nbconvert_exporter": "python",
   "pygments_lexer": "ipython3",
   "version": "3.9.13"
  }
 },
 "nbformat": 4,
 "nbformat_minor": 5
}
